{
 "cells": [
  {
   "cell_type": "markdown",
   "id": "c94a6eb0",
   "metadata": {},
   "source": [
    "# Database Setup"
   ]
  },
  {
   "cell_type": "markdown",
   "id": "b1c49113",
   "metadata": {},
   "source": [
    "Data is originally from <br>\n",
    "https://github.com/binlist<br>\n",
    "https://github.com/iannuttall/binlist-data<br>\n",
    "and manually entering bins. This data has been combined and modified."
   ]
  },
  {
   "cell_type": "markdown",
   "id": "b407f853",
   "metadata": {},
   "source": [
    "Imports"
   ]
  },
  {
   "cell_type": "code",
   "execution_count": null,
   "id": "d367f2dc",
   "metadata": {},
   "outputs": [],
   "source": [
    "# Generic Import\n",
    "import pandas as pd\n",
    "from pymongo import MongoClient\n",
    "import numpy as np\n",
    "import json\n",
    "\n",
    "db_cert = \"ca-certificate.crt\" #PATH/TO/ca-certificate.crt"
   ]
  },
  {
   "cell_type": "markdown",
   "id": "19c1e746",
   "metadata": {},
   "source": [
    "Connect to/create MongoDB database"
   ]
  },
  {
   "cell_type": "code",
   "execution_count": null,
   "id": "3e25b272",
   "metadata": {},
   "outputs": [],
   "source": [
    "def get_database(db_name):\n",
    "    # Load connection string from creds.json\n",
    "    with open('creds.json') as creds:\n",
    "        CONNECTION_STRING = json.load(creds)['MongoDB']['connection_string'] + db_cert\n",
    "\n",
    "    # Create a connection using MongoClient\n",
    "    client = MongoClient(CONNECTION_STRING)\n",
    "\n",
    "    return client[db_name] # return database"
   ]
  },
  {
   "cell_type": "code",
   "execution_count": null,
   "id": "d522a23a",
   "metadata": {},
   "outputs": [],
   "source": [
    "db = get_database('bin_list')\n",
    "bins = db['bins'] # create collection in db bin_list"
   ]
  },
  {
   "cell_type": "markdown",
   "id": "b8dfdc7a",
   "metadata": {},
   "source": [
    "# Enter Values manually into the databse"
   ]
  },
  {
   "cell_type": "markdown",
   "id": "ac0b901a",
   "metadata": {},
   "source": [
    "See all bins currently in database"
   ]
  },
  {
   "cell_type": "code",
   "execution_count": null,
   "id": "4216de4d",
   "metadata": {},
   "outputs": [],
   "source": [
    "for bin in bins.find({}):\n",
    "    #bins.delete_one(bin)\n",
    "    print(bin['Bin'])"
   ]
  },
  {
   "cell_type": "markdown",
   "id": "13412173",
   "metadata": {},
   "source": [
    "Let's add BINS manually"
   ]
  },
  {
   "cell_type": "code",
   "execution_count": null,
   "id": "0e49cad1",
   "metadata": {},
   "outputs": [],
   "source": [
    "response = input(\"Enter a BIN: \")\n",
    "while response != \"exit\":\n",
    "    if len(response) < 6:\n",
    "        print(\"Please enter a 6 digit bin number.\")\n",
    "        response = input(\"Enter a BIN: \")\n",
    "        continue\n",
    "    if len([bin for bin in bins.find({'Bin': response})]) == 0:\n",
    "        info = {'Bin': response}\n",
    "        info['Type'] = input(\"Type of Card (Debit/Credit): \")\n",
    "        info['Reloadable'] = input(\"Is the card Reloadable? (Y/N): \")\n",
    "        info['Category'] = input(\"Category (Prepaid, Gift, Credit, Debit): \")\n",
    "        info['Company'] = input(\"Company (Vanilla, MyVanilla, etc.): \")\n",
    "        info['Distributor'] = input(\"Financial Distributor (InComm Financial Services): \")\n",
    "        info['Issuer'] = input(\"Issuer (bank that issues): \")\n",
    "        info['Website'] = input(\"Website (include https:// and trailing /): \")\n",
    "        info['Customer Service'] = input('Support number (1-833-322-6760): ')\n",
    "        info['Country'] = input(\"USA\")\n",
    "        print(\"Submitting: \")\n",
    "        for k, v in info.items():\n",
    "            print(f\"{k}: {v}\")\n",
    "        bins.insert_one(info).inserted_id\n",
    "        print(\"Saved\")\n",
    "        response = input(\"Enter a BIN: \")\n",
    "    else:\n",
    "        print(\"BIN Already Uploaded.\")\n",
    "        response = input(\"Enter a BIN: \")\n",
    "print(\"Finished\")"
   ]
  },
  {
   "cell_type": "markdown",
   "id": "75bc416c",
   "metadata": {},
   "source": [
    "View number of bins in the database now"
   ]
  },
  {
   "cell_type": "code",
   "execution_count": null,
   "id": "3a1ebc85",
   "metadata": {},
   "outputs": [],
   "source": [
    "len([bin for bin in bins.find({})])"
   ]
  },
  {
   "cell_type": "markdown",
   "id": "490d4bf3",
   "metadata": {},
   "source": [
    "# Adding CSV's to the database"
   ]
  },
  {
   "cell_type": "markdown",
   "id": "b7ff1a68",
   "metadata": {},
   "source": [
    "Let's clean up the first CSV and then upload to the database"
   ]
  },
  {
   "cell_type": "code",
   "execution_count": null,
   "id": "665e37c5",
   "metadata": {},
   "outputs": [],
   "source": [
    "bin1 = pd.read_csv('binlist-data.csv')\n",
    "bin1"
   ]
  },
  {
   "cell_type": "markdown",
   "id": "ae5b8723",
   "metadata": {},
   "source": [
    "Let's drop unused columns from this CSV"
   ]
  },
  {
   "cell_type": "code",
   "execution_count": null,
   "id": "2fd502ac",
   "metadata": {},
   "outputs": [],
   "source": [
    "# bin1 = bin1.drop(columns = ['alpha_2', 'country', 'latitude', 'longitude'])\n",
    "bin1"
   ]
  },
  {
   "cell_type": "markdown",
   "id": "ac2c5e7d",
   "metadata": {},
   "source": [
    "Create a for loop to add this information to the DB (we do NOT want to overwrite current data)"
   ]
  },
  {
   "cell_type": "code",
   "execution_count": null,
   "id": "d48f324f",
   "metadata": {},
   "outputs": [],
   "source": [
    "def add_bin(bin_info):\n",
    "    if len([bin for bin in bins.find({'Bin': bin_info['bin']})]) == 0:\n",
    "        info = {'Bin': bin_info['bin']}\n",
    "        info['Type'] = bin_info['type']\n",
    "        info['Reloadable'] = ''\n",
    "        info['Category'] = bin_info['type']\n",
    "        info['Company'] = ''\n",
    "        info['Distributor'] = ''\n",
    "        info['Issuer'] = bin_info['issuer']\n",
    "        info['Website'] = bin_info['bank_url']\n",
    "        info['Customer Service'] = bin_info['bank_phone']\n",
    "        info['Country'] = bin_info['alpha_3']\n",
    "        bins.insert_one(info).inserted_id\n",
    "    else:\n",
    "        print(\"BIN Already Uploaded.\")"
   ]
  },
  {
   "cell_type": "code",
   "execution_count": null,
   "id": "a88c812a",
   "metadata": {},
   "outputs": [],
   "source": [
    "bin1.apply(add_bin, axis = 1)"
   ]
  },
  {
   "cell_type": "markdown",
   "id": "e576aa51",
   "metadata": {},
   "source": [
    "Now we must redo the process for the second CSV"
   ]
  },
  {
   "cell_type": "code",
   "execution_count": null,
   "id": "eb8a967b",
   "metadata": {},
   "outputs": [],
   "source": [
    "bin2 = pd.read_csv('ranges.csv')\n",
    "bin2"
   ]
  },
  {
   "cell_type": "code",
   "execution_count": null,
   "id": "d7867b8b",
   "metadata": {},
   "outputs": [],
   "source": [
    "bin2 = bin2.drop(columns = ['iin_end', 'number_length', 'number_luhn', 'scheme', 'bank_logo', 'bank_city'])\n",
    "bin2.head(5)"
   ]
  },
  {
   "cell_type": "code",
   "execution_count": null,
   "id": "0fa202b4",
   "metadata": {},
   "outputs": [],
   "source": [
    "def add_bin2(bin_info):\n",
    "    if len([bin for bin in bins.find({'Bin': bin_info['iin_start']})]) == 0:\n",
    "        info = {'Bin': bin_info['iin_start']}\n",
    "        info['Type'] = bin_info['brand']\n",
    "        info['Reloadable'] = ''\n",
    "        info['Category'] = bin_info['prepaid']\n",
    "        info['Company'] = ''\n",
    "        info['Distributor'] = ''\n",
    "        info['Issuer'] = bin_info['bank_name']\n",
    "        info['Website'] = bin_info['bank_url']\n",
    "        info['Customer Service'] = bin_info['bank_phone']\n",
    "        info['Country'] = bin_info['country']\n",
    "        bins.insert_one(info).inserted_id\n",
    "    else:\n",
    "        print(\"BIN Already Uploaded.\")"
   ]
  },
  {
   "cell_type": "code",
   "execution_count": null,
   "id": "f2c22ba6",
   "metadata": {},
   "outputs": [],
   "source": [
    "bin2.apply(add_bin2, axis = 1)"
   ]
  },
  {
   "cell_type": "markdown",
   "id": "59282f24",
   "metadata": {},
   "source": [
    "Change string bins to integers to be compatible with API"
   ]
  },
  {
   "cell_type": "code",
   "execution_count": null,
   "id": "14110133",
   "metadata": {},
   "outputs": [],
   "source": [
    "db = get_database('bin_list')\n",
    "bins = db['bins'] # create collection in db bin_list\n",
    "for bin in bins.find({'Bin': {'$type': 'string'}}):\n",
    "    bins.update_one({'_id': bin['_id']}, {'$set': {'Bin': int(bin['Bin'])}})"
   ]
  },
  {
   "cell_type": "markdown",
   "id": "13befdc4",
   "metadata": {},
   "source": [
    "Change NaN to empty strings (I didn't thoroughly check data before uploading to database, would have been MUCH quicker to change this in the pandas dataframe before uploading.)"
   ]
  },
  {
   "cell_type": "code",
   "execution_count": null,
   "id": "e4068340",
   "metadata": {},
   "outputs": [],
   "source": [
    "db = get_database('bin_list')\n",
    "bins = db['bins'] # create collection in db bin_list\n",
    "for column in ['Type', 'Reloadable', 'Category', 'Company', 'Distributor', 'Issuer', 'Website', 'Customer Service', 'Country']:\n",
    "    for bin in bins.find({column: {'$eq': np.nan}}):\n",
    "        bins.update_one({'_id': bin['_id']}, {'$set': {column: ''}})"
   ]
  }
 ],
 "metadata": {
  "kernelspec": {
   "display_name": "Python (dojo-env)",
   "language": "python",
   "name": "dojo-env"
  },
  "language_info": {
   "codemirror_mode": {
    "name": "ipython",
    "version": 3
   },
   "file_extension": ".py",
   "mimetype": "text/x-python",
   "name": "python",
   "nbconvert_exporter": "python",
   "pygments_lexer": "ipython3",
   "version": "3.8.13"
  },
  "toc": {
   "base_numbering": 1,
   "nav_menu": {},
   "number_sections": true,
   "sideBar": true,
   "skip_h1_title": false,
   "title_cell": "Table of Contents",
   "title_sidebar": "Contents",
   "toc_cell": false,
   "toc_position": {},
   "toc_section_display": true,
   "toc_window_display": false
  }
 },
 "nbformat": 4,
 "nbformat_minor": 5
}
